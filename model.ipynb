{
 "cells": [
  {
   "cell_type": "code",
   "execution_count": null,
   "metadata": {},
   "outputs": [],
   "source": [
    "import pandas as pd\n",
    "import numpy as np\n",
    "import sklearn\n",
    "import matplotlib.pyplot as plt\n",
    "\n",
    "from sklearn import linear_model\n",
    "from sklearn.ensemble import RandomForestRegressor\n",
    "import xgboost as xgb\n",
    "\n",
    "from sklearn.metrics import mean_squared_error\n",
    "from math import sqrt\n",
    "\n",
    "%matplotlib inline\n",
    "\n",
    "use_last_year_salary = False"
   ]
  },
  {
   "cell_type": "code",
   "execution_count": null,
   "metadata": {},
   "outputs": [],
   "source": [
    "df = pd.read_csv(\"all_data.csv\")\n",
    "df[['Salary']] = df[['Salary']].replace(0, np.nan)\n",
    "\n",
    "if use_last_year_salary:\n",
    "    df[['last_year_salary']] = df[['last_year_salary']].replace(0, np.nan)\n",
    "\n",
    "df = df.dropna()"
   ]
  },
  {
   "cell_type": "code",
   "execution_count": null,
   "metadata": {
    "scrolled": true
   },
   "outputs": [],
   "source": [
    "df = df.join(pd.get_dummies(df['Pos']))"
   ]
  },
  {
   "cell_type": "code",
   "execution_count": null,
   "metadata": {
    "scrolled": true
   },
   "outputs": [],
   "source": [
    "\n",
    "# do log-transformation because we use RMSE as measurement\n",
    "df['Salary'] = np.log(df['Salary'])\n",
    "df['salary_limit'] = np.log(df['salary_limit'])"
   ]
  },
  {
   "cell_type": "code",
   "execution_count": null,
   "metadata": {},
   "outputs": [],
   "source": [
    "\n",
    "df_train, df_test = sklearn.model_selection.train_test_split(df, test_size=0.5)\n",
    "\n",
    "features = [\"Age\",\n",
    "            \"Game\",\n",
    "            \"GS\",\n",
    "            \"3P%\",\n",
    "            \"FT%\",\n",
    "            \"STL\",\n",
    "            \"PER\",\n",
    "            \"TS%\",\n",
    "            \"ORB%\",\n",
    "            \"TRB%\",\n",
    "            \"AST%\",\n",
    "            \"STL%\",\n",
    "            \"BLK%\",\n",
    "            \"TOV%\",\n",
    "            \"USG%\",\n",
    "            \"VORP\",\n",
    "            \"EFF\",\n",
    "            \"GmSc\",\n",
    "            \"salary_limit\",\n",
    "            \"C\",\n",
    "            \"F\",\n",
    "            \"G\",\n",
    "            #\"F-C\",\n",
    "           ] + ([\"last_year_salary\"] if use_last_year_salary else [])\n",
    "  \n",
    "lm = linear_model.LinearRegression()\n",
    "model = lm.fit(pd.DataFrame(df_train, columns=features),\n",
    "               pd.DataFrame(df_train, columns=[\"Salary\"]))\n",
    "\n",
    "print(\"test RMSE: \", sqrt(\n",
    "    mean_squared_error(\n",
    "        pd.DataFrame(df_test, columns=[\"Salary\"]),\n",
    "        lm.predict(pd.DataFrame(df_test, columns=features))\n",
    "    )))\n"
   ]
  },
  {
   "cell_type": "code",
   "execution_count": null,
   "metadata": {},
   "outputs": [],
   "source": [
    "# sklearn.metrics.r2_score(Y, predictions)"
   ]
  },
  {
   "cell_type": "code",
   "execution_count": null,
   "metadata": {},
   "outputs": [],
   "source": [
    "\n",
    "def runRF(n_e):\n",
    "    regr = RandomForestRegressor(n_estimators=n_e)\n",
    "    regr.fit(pd.DataFrame(df_train, columns=features),\n",
    "             np.ravel(pd.DataFrame(df_train, columns=[\"Salary\"])))\n",
    "    return sqrt(mean_squared_error(regr.predict(pd.DataFrame(df_test, columns=features)),\n",
    "                              pd.DataFrame(df_test, columns=['Salary'])\n",
    "                             ))\n",
    "\n",
    "xvals = []\n",
    "yvals = []\n",
    "for i in range(1, 50, 1):\n",
    "    xvals.append(i)\n",
    "    yvals.append(runRF(i))\n",
    "    "
   ]
  },
  {
   "cell_type": "code",
   "execution_count": null,
   "metadata": {
    "scrolled": false
   },
   "outputs": [],
   "source": [
    "print(\"number of tree v.s RMSE\")\n",
    "plt.plot(xvals, yvals)\n",
    "print(yvals[-1])"
   ]
  },
  {
   "cell_type": "code",
   "execution_count": null,
   "metadata": {},
   "outputs": [],
   "source": [
    "def show_importance():\n",
    "    regr = RandomForestRegressor(n_estimators=50)\n",
    "    regr.fit(pd.DataFrame(df_train, columns=features),\n",
    "             np.ravel(pd.DataFrame(df_train, columns=[\"Salary\"])))\n",
    "    importances = list(regr.feature_importances_)\n",
    "    feature_importances = [(feature, round(importance, 2)) for feature, importance in zip(features, importances)]\n",
    "    feature_importances = sorted(feature_importances, key = lambda x: x[1], reverse = True)\n",
    "    #[print('Variable: {:20} Importance: {}'.format(*pair)) for pair in feature_importances];\n",
    "    x_values = list(range(len(importances)))\n",
    "    plt.bar(x_values, importances, orientation = 'vertical')\n",
    "    plt.xticks(x_values, features, rotation = 'vertical')\n",
    "show_importance()"
   ]
  },
  {
   "cell_type": "code",
   "execution_count": null,
   "metadata": {
    "scrolled": true
   },
   "outputs": [],
   "source": [
    "import xgboost as xgb\n",
    "\n",
    "param = {\"objective\": \"reg:linear\",\n",
    "         \"eta\": 0.1,\n",
    "         \"min_child_weight\": 6,\n",
    "         \"max_depth\": 3,\n",
    "         \"subsample\": 0.8\n",
    "        }\n",
    "\n",
    "dtrain = xgb.DMatrix(pd.DataFrame(df_train, columns=features),\n",
    "                     pd.DataFrame(df_train, columns=[\"Salary\"]))\n",
    "\n",
    "num_round = 80\n",
    "xgb.cv(param, dtrain, num_round, nfold=5,\n",
    "       metrics={'rmse'}, seed=0)"
   ]
  },
  {
   "cell_type": "code",
   "execution_count": null,
   "metadata": {},
   "outputs": [],
   "source": [
    "model = xgb.train(param, dtrain, num_boost_round=50)\n",
    "preds = model.predict(xgb.DMatrix(pd.DataFrame(df_test, columns=features)))\n",
    "print(\"test RMSE: \", sqrt(mean_squared_error(preds,\n",
    "                              pd.DataFrame(df_test, columns=['Salary'])\n",
    "                             )))"
   ]
  },
  {
   "cell_type": "code",
   "execution_count": null,
   "metadata": {},
   "outputs": [],
   "source": [
    "\n",
    "def make_prediction(feature_arr):\n",
    "    assert len(feature_arr) == len(features)\n",
    "    X = pd.DataFrame([feature_arr])\n",
    "    return np.exp(lm.predict(X)[0][0])"
   ]
  },
  {
   "cell_type": "code",
   "execution_count": null,
   "metadata": {},
   "outputs": [],
   "source": []
  },
  {
   "cell_type": "code",
   "execution_count": null,
   "metadata": {},
   "outputs": [],
   "source": [
    "# usage example:\n",
    "\n",
    "make_prediction(pd.DataFrame(df_test, columns = features).iloc[0].values)"
   ]
  },
  {
   "cell_type": "code",
   "execution_count": null,
   "metadata": {},
   "outputs": [],
   "source": [
    "df_test.head()"
   ]
  },
  {
   "cell_type": "code",
   "execution_count": null,
   "metadata": {},
   "outputs": [],
   "source": []
  }
 ],
 "metadata": {
  "kernelspec": {
   "display_name": "Python 3",
   "language": "python",
   "name": "python3"
  },
  "language_info": {
   "codemirror_mode": {
    "name": "ipython",
    "version": 3
   },
   "file_extension": ".py",
   "mimetype": "text/x-python",
   "name": "python",
   "nbconvert_exporter": "python",
   "pygments_lexer": "ipython3",
   "version": "3.7.2"
  }
 },
 "nbformat": 4,
 "nbformat_minor": 2
}